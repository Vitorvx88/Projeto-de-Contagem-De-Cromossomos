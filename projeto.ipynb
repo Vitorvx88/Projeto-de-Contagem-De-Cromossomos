{
  "nbformat": 4,
  "nbformat_minor": 0,
  "metadata": {
    "colab": {
      "provenance": [],
      "include_colab_link": true
    },
    "kernelspec": {
      "name": "python3",
      "display_name": "Python 3"
    },
    "language_info": {
      "name": "python"
    }
  },
  "cells": [
    {
      "cell_type": "markdown",
      "metadata": {
        "id": "view-in-github",
        "colab_type": "text"
      },
      "source": [
        "<a href=\"https://colab.research.google.com/github/Vitorvx88/Projeto-de-Contagem-De-Cromossomos/blob/main/projeto.ipynb\" target=\"_parent\"><img src=\"https://colab.research.google.com/assets/colab-badge.svg\" alt=\"Open In Colab\"/></a>"
      ]
    },
    {
      "cell_type": "code",
      "execution_count": 1,
      "metadata": {
        "id": "88LcIdvecV4s"
      },
      "outputs": [],
      "source": [
        "import cv2\n",
        "import numpy as np\n",
        "%matplotlib inline\n",
        "from matplotlib import pyplot as plt\n",
        "from skimage import util\n",
        "import matplotlib.pyplot as plt\n",
        "import cv2 as cv\n",
        "from os import listdir, path\n",
        "import time\n",
        "import os\n",
        "from google.colab.patches import cv2_imshow\n",
        "from PIL import Image\n",
        "from IPython.display import display\n"
      ]
    },
    {
      "cell_type": "code",
      "source": [
        "from google.colab import drive\n",
        "drive.mount('/content/drive')"
      ],
      "metadata": {
        "colab": {
          "base_uri": "https://localhost:8080/"
        },
        "id": "0ANOlU_eRDa6",
        "outputId": "d07717d3-5872-4745-904a-6d8aeb72afc0"
      },
      "execution_count": null,
      "outputs": [
        {
          "output_type": "stream",
          "name": "stdout",
          "text": [
            "Drive already mounted at /content/drive; to attempt to forcibly remount, call drive.mount(\"/content/drive\", force_remount=True).\n"
          ]
        }
      ]
    },
    {
      "cell_type": "markdown",
      "source": [
        "Pré-processamento:\n",
        "Limiarização\n",
        "•\tThresholding\n",
        "(Global e Local)\n",
        "•\tMétodo de Otsu\n",
        "•\tAdaptive Gaussiano\n",
        "\n",
        "Detecção de bordas:\n",
        "\n",
        "•\tTransformada de Hough:\n",
        "•\tSobel\n",
        "•\tPrewitt\n",
        "•\tLaplacian\n"
      ],
      "metadata": {
        "id": "aU4_eQe7xG-D"
      }
    },
    {
      "cell_type": "code",
      "source": [
        "img1 = cv2.imread('/content/drive/MyDrive/Processamento de imagens/6.tif')\n",
        "img2 = cv2.imread('/content/drive/MyDrive/Processamento de imagens/13.tif')\n",
        "img3 = cv2.imread('/content/drive/MyDrive/Processamento de imagens/16.tif')\n",
        "img4 = cv2.imread('/content/drive/MyDrive/Processamento de imagens/27.tif')\n",
        "fig, axes = plt.subplots(1, 4, figsize=(20, 10))\n",
        "ax = axes.ravel()\n",
        "ax[0].imshow(cv2.cvtColor(img1, cv2.COLOR_BGR2RGB))\n",
        "ax[0].set_title('Imagem 1')\n",
        "ax[0].set_axis_off()\n",
        "\n",
        "\n",
        "ax[1].imshow(cv2.cvtColor(img2, cv2.COLOR_BGR2RGB))\n",
        "ax[1].set_title('Imagem 2')\n",
        "ax[1].set_axis_off()\n",
        "\n",
        "ax[2].imshow(cv2.cvtColor(img3, cv2.COLOR_BGR2RGB))\n",
        "ax[2].set_title('Imagem 3')\n",
        "ax[2].set_axis_off()\n",
        "\n",
        "ax[3].imshow(cv2.cvtColor(img4, cv2.COLOR_BGR2RGB))\n",
        "ax[3].set_title('Imagem 4')\n",
        "ax[3].set_axis_off()\n",
        "\n",
        "plt.axis(\"off\")"
      ],
      "metadata": {
        "id": "wWdG1z7tijxG"
      },
      "execution_count": null,
      "outputs": []
    },
    {
      "cell_type": "markdown",
      "source": [
        "import cv2\n",
        "import os\n",
        "from google.colab.patches import cv2_imshow\n",
        "\n",
        "# Caminho para a pasta de imagens\n",
        "pasta_imagens = 'caminho/para/sua/pasta'\n",
        "\n",
        "# Lista de arquivos na pasta\n",
        "arquivos = os.listdir(pasta_imagens)\n",
        "\n",
        "# Loop através dos arquivos na pasta\n",
        "for arquivo in arquivos:\n",
        "    # Verificar se o arquivo é uma imagem (por extensão)\n",
        "    if arquivo.lower().endswith(('.png', '.jpg', '.jpeg', '.bmp', '.gif')):\n",
        "        caminho_completo = os.path.join(pasta_imagens, arquivo)\n",
        "        # Abrir a imagem usando o OpenCV\n",
        "        imagem = cv2.imread(caminho_completo)\n",
        "        \n",
        "        if imagem is not None:\n",
        "            # Exibir a imagem usando a função cv2_imshow do Colab\n",
        "            cv2_imshow(imagem)"
      ],
      "metadata": {
        "id": "B7DDiCmS3xDf"
      }
    },
    {
      "cell_type": "code",
      "source": [
        "img1 = cv2.imread('/content/drive/MyDrive/Processamento de imagens/6.tif')\n",
        "img2 = cv2.imread('/content/drive/MyDrive/Processamento de imagens/13.tif')\n",
        "img3 = cv2.imread('/content/drive/MyDrive/Processamento de imagens/16.tif')\n",
        "img4 = cv2.imread('/content/drive/MyDrive/Processamento de imagens/27.tif')\n",
        "\n",
        "img1 = cv2.cvtColor(img1, cv2.COLOR_BGR2GRAY)\n",
        "img2 = cv2.cvtColor(img2, cv2.COLOR_BGR2GRAY)\n",
        "img3 = cv2.cvtColor(img3, cv2.COLOR_BGR2GRAY)\n",
        "img4 = cv2.cvtColor(img4, cv2.COLOR_BGR2GRAY)\n",
        "\n",
        "#imagem 1\n",
        "ret,th1 = cv2.threshold(img1,153,255,cv2.THRESH_BINARY)#Global\n",
        "th2 = cv2.threshold(img1,0,255,cv2.THRESH_BINARY+cv2.THRESH_OTSU)#OTSU\n",
        "#imagem 2\n",
        "ret,th3 = cv2.threshold(img2,150,255,cv2.THRESH_BINARY)#Global\n",
        "th4 = cv2.threshold(img2,90,255,cv2.THRESH_BINARY+cv2.THRESH_OTSU)#OTSU\n",
        "#imagem 3\n",
        "ret,th5 = cv2.threshold(img3,125,255,cv2.THRESH_BINARY)#Global\n",
        "th6 = cv2.threshold(img3,0,255,cv2.THRESH_BINARY+cv2.THRESH_OTSU)#OTSU\n",
        "#imagem 4\n",
        "ret,th7 = cv2.threshold(img4,137,255,cv2.THRESH_BINARY)#Global\n",
        "th8 = cv2.threshold(img4,0,255,cv2.THRESH_BINARY+cv2.THRESH_OTSU)#OTSU\n",
        "\n",
        "\n",
        "\n",
        "\n",
        "titles = ['Limiar Global (v = 153) img1',\n",
        "            'OTSU img1', 'Limiar Global (v = 160) img2', 'OTSU img2', 'Limiar Global (v = 125) img3','OTSU img3','Limiar Global (v = 137) img4','OTSU img4']\n",
        "images = [th1, th2[1], th3, th4[1], th5, th6[1],th7, th8[1]]\n",
        "num_images = len(images)\n",
        "\n",
        "fig, axes = plt.subplots(3, 3, figsize=(24, 24))\n",
        "ax = axes.ravel()\n",
        "for i in range(num_images):\n",
        "    ax[i].imshow(images[i], cmap='gray')\n",
        "    ax[i].set_title(titles[i])\n",
        "    ax[i].set_axis_off()\n",
        "    plt.axis(\"off\")"
      ],
      "metadata": {
        "id": "Rszb5pzHikBb"
      },
      "execution_count": null,
      "outputs": []
    },
    {
      "cell_type": "code",
      "source": [
        "# Caminho para a pasta de imagens\n",
        "pasta_imagens = '/content/drive/MyDrive/Processamento de imagens'\n",
        "\n",
        "\n",
        "# Lista de arquivos na pasta\n",
        "arquivos = os.listdir(pasta_imagens)\n",
        "\n",
        "# Filtrar os arquivos de imagem\n",
        "arquivos_imagem = [arquivo for arquivo in arquivos if arquivo.lower().endswith(('.png', '.jpg', '.jpeg', '.bmp', '.gif','.tif'))]\n",
        "\n",
        "# Verificar se há imagens para exibir\n",
        "if len(arquivos_imagem) > 0:\n",
        "    # Lista para armazenar imagens\n",
        "    imagens = []\n",
        "\n",
        "    # Carregar as imagens\n",
        "    for arquivo in arquivos_imagem:\n",
        "        caminho_completo = os.path.join(pasta_imagens, arquivo)\n",
        "        imagem = Image.open(caminho_completo)\n",
        "        imagens.append(imagem)\n",
        "\n",
        "    # Determinar o número de linhas e colunas para exibir\n",
        "    num_linhas = 15  # Defina o número de linhas desejado\n",
        "    num_colunas = len(imagens) // num_linhas\n",
        "\n",
        "    # Definir o fator de escala para aumentar as imagens\n",
        "    fator_escala = 2  # Aumento de 2x\n",
        "\n",
        "    # Criar a matriz de imagens\n",
        "    matriz_imagens = []\n",
        "    for linha in range(num_linhas):\n",
        "        linha_imagens = imagens[linha * num_colunas : (linha + 1) * num_colunas]\n",
        "        matriz_imagens.append(linha_imagens)\n",
        "\n",
        "    # Criar a imagem resultante combinando as imagens\n",
        "    altura_maxima = max(imagem.height for imagem in imagens) * fator_escala\n",
        "    largura_total = sum(imagem.width * fator_escala for imagem in matriz_imagens[0])\n",
        "    imagem_resultante = Image.new('RGB', (largura_total, num_linhas * altura_maxima))\n",
        "\n",
        "    for linha, linha_imagens in enumerate(matriz_imagens):\n",
        "        y_offset = linha * altura_maxima\n",
        "        x_offset = 0\n",
        "        for imagem in linha_imagens:\n",
        "            imagem_aumentada = imagem.resize((imagem.width * fator_escala, imagem.height * fator_escala))\n",
        "            imagem_resultante.paste(imagem_aumentada, (x_offset, y_offset))\n",
        "            x_offset += imagem_aumentada.width\n",
        "\n",
        "    # Exibir a imagem resultante usando Matplotlib\n",
        "    plt.imshow(imagem_resultante)\n",
        "    plt.axis('off')  # Não mostrar eixos\n",
        "    plt.show()\n",
        "else:\n",
        "    print(\"Nenhuma imagem encontrada na pasta.\")"
      ],
      "metadata": {
        "id": "QVDvFNeZxP9P"
      },
      "execution_count": null,
      "outputs": []
    }
  ]
}